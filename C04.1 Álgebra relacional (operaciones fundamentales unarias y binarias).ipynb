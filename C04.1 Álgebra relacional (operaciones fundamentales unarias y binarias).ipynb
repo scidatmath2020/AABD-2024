{
 "cells": [
  {
   "cell_type": "markdown",
   "metadata": {},
   "source": [
    "<img src=\"logo.png\">"
   ]
  },
  {
   "cell_type": "markdown",
   "metadata": {},
   "source": [
    "# C03. Álgebra relacional\n",
    "\n",
    "El **Álgebra relacional** es un lenguaje de consulta procesal ampliamente utilizado. Recopila instancias de relaciones como entrada y da ocurrencias de relaciones como salida. Utiliza varias operaciones para realizar esta acción. Las operaciones de consulta de álgebra relacional de SQL se realizan de forma recursiva en una relación. El resultado de estas operaciones es una nueva relación, que podría formarse a partir de una o más relaciones de entrada.\n",
    "\n",
    "En palabras simples: el álgebra relacional es el estudio de las operaciones que se pueden aplicar a tablas, **pensando a las tablas como conjuntos**.\n",
    "\n",
    "Existen dos tipos de operaciones fundamentales en esta álgebra:\n",
    "\n",
    "|Unarias|Binarias|\n",
    "|--|--|\n",
    "|Selección|Unión|\n",
    "|Proyección|Intersección|\n",
    "|Renombramiento|Diferencia|\n",
    "||Pegado|\n",
    "||Partida|\n",
    "\n"
   ]
  },
  {
   "cell_type": "markdown",
   "metadata": {},
   "source": [
    "## Operaciones unarias\n",
    "\n",
    "Se trata de operaciones que se aplican a solo una relación. Consideremos la siguiente tabla:\n",
    "\n",
    "**Tabla Persona**\n",
    "\n",
    "| Llave primaria Persona | Entidad | UPM | Vivienda | Hogar | Renglón |\n",
    "|------------------------|---------|-----|----------|-------|---------|\n",
    "|02_02_01_02_01|02|02|01|02|01|\n",
    "|02_01_03_01_01|02|01|03|01|01|\n",
    "|01_18_02_01_03|01|18|02|01|03\n",
    "|32_12_03_05_04|32|12|03|05|04\n",
    "|09_15_04_01_02|09|15|04|01|02\n",
    "\n",
    "\n",
    "### Selección: $\\sigma$\n",
    "\n",
    "Esta operación nos permite seleccionar registros. Su notación es la siguiente: $\\sigma_{p}(r)$ donde $p$ es el predicado (una proposición lógica) y  $r$ es la relación (nombre de la tabla).\n",
    "\n",
    "**Ejemplo 1.**\n",
    "\n",
    "La operación \"selecciona de la Tabla Personas aquellos registros cuya entidad es Baja California\" se escribe como $$\\sigma_\\mbox{Entidad = Baja  California}(\\mbox{Personas})$$\n",
    "\n",
    "**Ejemplo 2.**\n",
    "\n",
    "La operación \"selecciona de la Tabla Personas aquellos registros cuya entidad es Baja California o Aguascalientes\" se escribe como $$\\sigma_{\\mbox{Entidad = Baja  California }\\vee\\mbox{ Entidad = Aguascalientes}}(\\mbox{Personas})$$\n",
    "\n"
   ]
  },
  {
   "cell_type": "markdown",
   "metadata": {},
   "source": [
    "### Proyecciones: $\\Pi$\n",
    "\n",
    "Supongamos que únicamente nos interesa conocer ciertos campos de una tabla. Para ello tenemos se define la operación proyección: $\\Pi_{A}(r)$ donde $r$ es la relación (nombre de la tabla) y $A$ es un subconjunto de los nombres de los campos de la tabla $r$.\n",
    "\n",
    "Al ser $\\Pi_{A}(r)$ una nueva relación (recordar que en este contexto la palabra relación es sinónimo de tabla), y las relaciones las pensamos como conjuntos, se quitan las repeticiones de la tabla resultante de $\\Pi_{A}(r)$ como tal.\n",
    "\n",
    "**Ejemplo 3.**\n",
    "\n",
    "La operación \"Hallar las entidades de la Tabla Personas\" se escribe como $$\\Pi_{\\mbox{Entidad}}(\\mbox{Personas})$$\n",
    "\n",
    "**Ejemplo 4.**\n",
    "\n",
    "La operación \"Hallar las entidades y las UPM de la Tabla Personas\" se escribe como $$\\Pi_{\\mbox{Entidad, UPM}}(\\mbox{Personas})$$"
   ]
  },
  {
   "cell_type": "markdown",
   "metadata": {},
   "source": [
    "### Renombrar: $\\rho$\n",
    "\n",
    "La operación renombrar sirve para cambiar el nombre de una columna cualquiera de la tabla: $\\rho_r(a|b)$ significa \"en la tabla $r$, cambia el nombre del campo $a$ por $b$\"."
   ]
  },
  {
   "cell_type": "markdown",
   "metadata": {},
   "source": [
    "### Composiciones\n",
    "\n",
    "Como el resultado de aplicar una operación unaria a una relación es otra relación, tiene sentido hacer la composición de estas operaciones. Por ejemplo, \"Hallar las UPM de Baja California que están en la Tabla Personas\":\n",
    "\n",
    "1) Hallamos, de la tabla de personas, aquella tabla formada por los elementos de Baja California: $$\\sigma_{\\mbox{Entidad = Baja California}}(\\mbox{Personas})$$\n",
    "\n",
    "2) De la tabla del resultado anterior, hallamos las UPM: $$\\Pi_{\\mbox{UPM}}(\\sigma_{\\mbox{Entidad = Baja California}}(\\mbox{Personas})).$$"
   ]
  },
  {
   "cell_type": "markdown",
   "metadata": {},
   "source": [
    "## Operaciones binarias\n",
    "\n",
    "Se trata de operaciones que se aplican a dos tablas (pudiendo estas ser iguales). Consideremos las dos tablas siguientes:\n",
    "\n",
    "**Tabla Ejército**\n",
    " \n",
    "|ID Persona|Entidad|¿Confía en el Ejército?|\n",
    "|--|--|--|\n",
    "|1|01|Sí|\n",
    "|2|01|Sí|\n",
    "|3|02|No|\n",
    "|4|02|Sí|\n",
    "|5|32|No|\n",
    "|6|09|Sí|\n",
    "\n",
    "**Tabla Marina**\n",
    "\n",
    "|ID Persona|Entidad|¿Confía en la Marina?|\n",
    "|--|--|--|\n",
    "|1|01|Sí|\n",
    "|2|01|Sí|\n",
    "|3|02|No|\n",
    "|4|02|Sí|\n",
    "|5|32|Sí|\n",
    "|6|09|No|\n",
    "\n",
    "### Unión: $\\bigcup$\n",
    "\n",
    "La operación unión considera la tabla resultante de unir dos tablas en el sentido de conjuntos. \n",
    "\n",
    "**Ejemplo 5.**\n",
    "\n",
    "*Calcular cuántas personas confían en las instituciones armadas.* Buscamos entonces el número de renglones de la tabla resultante de unir a quienes confían en el Ejército con quienes confían en la marina y eliminar duplicaciones. Esto significa que queremos hallar el número de registros de $$\\sigma_{\\mbox{Col3 = Sí}}(\\mbox{Ejército})\\bigcup\\sigma_{\\mbox{Col3 = Sí}}(\\mbox{Marina}).$$\n",
    "\n",
    "Esto nos da como resultado \n",
    "\n",
    "|ID Persona|Entidad|Confianza en Instituciones armadas|\n",
    "|--|--|--|\n",
    "|1|01|Sí|\n",
    "|2|01|Sí|\n",
    "|4|02|Sí|\n",
    "|5|32|Sí|\n",
    "|6|09|Sí|\n",
    "\n",
    "**Observación Importante.** Si $S$ y $T$ son dos tablas, entonces para que tenga sentido evaluar la expresión $S\\bigcup T$ se deben cumplir las siguientes dos condiciones:\n",
    "\n",
    "1) $S$ y $T$ deben tener el mismo número de campos y\n",
    "\n",
    "2) Los campos de $S$ y $T$ deben ser **compatibles**.\n"
   ]
  },
  {
   "cell_type": "markdown",
   "metadata": {},
   "source": [
    "### Intersección: $\\bigcap$\n",
    "\n",
    "La operación intersección de dos tablas arroja como resultado la tabla formada por los registros que están en ambas. Para realizar una instersección, los intersecandos deben cumplir las mismas condiciones que para la unión.\n",
    "\n",
    "**Ejemplo 6.**\n",
    "\n",
    "*Calcular cuántas personas confían tanto en el Ejército como en la Marina.* Buscamos entonces el número de renglones de la tabla resultante de intersectar a quienes confían en el Ejército con quienes confían en la marina y eliminar duplicaciones. Esto significa que queremos hallar el número de registros de $$\\sigma_{\\mbox{Col3 = Sí}}(\\mbox{Ejército})\\bigcap\\sigma_{\\mbox{Col3 = Sí}}(\\mbox{Marina}).$$\n",
    "\n",
    "La respuesta se queda como tarea.\n"
   ]
  },
  {
   "cell_type": "markdown",
   "metadata": {},
   "source": [
    "## Diferencia de tablas: $-$\n",
    "\n",
    "Si $S$ y $T$ son dos tablas, la tabla $S-T$ representa aquella formada por los registros que están en $S$ pero que no están en $T$. Aquí, puede ser útil recordar que si $A$ y $B$ son conjuntos, entonces $A-B=A\\bigcap B^c$, donde $B^c$ es el complemento de $B$.\n",
    "\n",
    "**Ejemplo 7.**\n",
    "\n",
    "*Calcular cuántas personas confían únicamente en la Marina.* Buscamos entonces el número de renglones de la tabla resultante de hallar a quienes confían en la Marina, quitar de ella a quienes también confían en el Ejército y eliminar duplicaciones. Esto significa que queremos hallar el número de registros de $$\\sigma_{\\mbox{Col3 = Sí}}(\\mbox{Marina})-\\sigma_{\\mbox{Col3 = Sí}}(\\mbox{Ejército})=\\sigma_{\\mbox{Col3 = Sí}}(\\mbox{Marina})\\bigcap\\sigma_{\\mbox{Col3 != Sí}}(\\mbox{Ejército})$$\n",
    "\n",
    "Esto nos da como resultado\n",
    "\n",
    "|ID Persona|Entidad|Solo confía en Ejército|\n",
    "|--|--|--|\n",
    "|5|32|Sí|\n",
    "\n"
   ]
  }
 ],
 "metadata": {
  "kernelspec": {
   "display_name": "R",
   "language": "R",
   "name": "ir"
  },
  "language_info": {
   "codemirror_mode": "r",
   "file_extension": ".r",
   "mimetype": "text/x-r-source",
   "name": "R",
   "pygments_lexer": "r",
   "version": "3.6.1"
  }
 },
 "nbformat": 4,
 "nbformat_minor": 4
}
