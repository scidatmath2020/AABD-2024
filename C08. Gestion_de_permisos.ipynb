{
 "cells": [
  {
   "cell_type": "markdown",
   "metadata": {},
   "source": [
    "<img src=\"logo.png\">"
   ]
  },
  {
   "cell_type": "markdown",
   "metadata": {},
   "source": [
    "# C07. Gestión de permisos\n",
    "\n",
    "En este capítulo nos orientaremos al uso de cuestiones de seguridad y privilegios acerca del uso de bases de datos.\n",
    "\n",
    "Para ello, es importante saber que en la instalación de pgAdmin 4 y postgresql, por default se nos crea un *superusuario* (un usuario que tiene todos los privilegios) llamado **postgres**. \n",
    "\n",
    "En general, se recomiendo siempre crear un nuevo superusuario que nos permita realizar la administración de todas las bases de datos. Esto se debe a que tener un solo superusuario puede ser muy peligroso.\n",
    "\n",
    "Para crearlo, nos basta con seguir los pasos de esta imagen:\n",
    "\n",
    "<img src=\"superusuario.png\">\n",
    "\n"
   ]
  },
  {
   "cell_type": "markdown",
   "metadata": {},
   "source": [
    "## Privilegios: Creación de usuarios\n",
    "\n",
    "Sobre las tablas podemos tener ciertos privilegios: select, insert, update o delete. Sobre los usuarios también podemos tener ciertos privilegios: SuperUser, CreateDB, CreateRole y Login.\n",
    "\n",
    "**SuperUser.** Determina si el nuevo rol es un \"superusuario\". Tiene privilegios para crear bases de datos y otros usuarios, incluyendo superusuarios (y es el único capaz de crear a estos últimos). Si no se especifica al crear usuarios, su valor predeterminado es nosuperuser.\n",
    "\n",
    "**CreateDB.** Define la capacidad de un rol para crear bases de datos. Si se especifica CREATEDB, el rol que se defina podrá crear nuevas bases de datos. Si no se especifica NoCreateDB será el valor predeterminado.\n",
    "\n",
    "**CreateRole.** Estas cláusulas determinan si un rol podrá crear nuevos rolres (es decir, ejecutar CREATE ROLE). Un rol con este privilegio también puede crear y descartar otros roles. Si no se especifica, NoCreateRole es el valor predeterminado.\n",
    "\n",
    "La sintaxis para crear usuarios es la siguiente:\n",
    "\n",
    "``create user nombre_del_usuario with password 'clave' [roles]``\n",
    "\n",
    "**Ejemplo 1: Usuario sin roles**\n",
    "\n",
    "``create user hgarduno1 with password 'abcd';`` crea un usuario sin roles llamado *hgarduno1* con contraseña *'abcd'*. Este usuario es capaz de crear o eliminar tablas. Sin embargo, por ejemplo, no puede crear bases de datos.\n",
    "\n",
    "**Ejemplo 2: Usuario con el rol de crear bases de datos**\n",
    "\n",
    "``create user hgarduno2 with password 'abcd' createdb;`` crea un usuario sin roles llamado *hgarduno1* con contraseña *'abcd'*. Este usuario es capaz de crear o eliminar bases de datos. Sin embargo, por ejemplo, no puede crear usuarios. Incluso, este tipo de usuario tampoco puede hacer *select* en las tablas aunque sí puede crear tablas.\n",
    "\n",
    "**Ejemplo 3: Usuario que cree usuarios**\n",
    "\n",
    "``create user hgarduno3 with password 'abcd' createrole;`` este usuario es capaz de crear un usuario que pueda crear otros usuarios.\n",
    "\n",
    "**Ejemplo 4: Usuario que tenga múltiples roles**\n",
    "\n",
    "``create user hgarduno4 with password 'abcd' createdb createrole;`` este usuario es capaz de crear bases de datos y usuarios.\n",
    "\n"
   ]
  },
  {
   "cell_type": "markdown",
   "metadata": {},
   "source": [
    "## Privilegios: tablas\n",
    "\n",
    "Mediante la sintaxis ``grant palabra_magica on tabla to usuario`` nos permite dar permisos a *usuario* para trabajar en *tabla* con el permiso dado por *palabra_magica*. \n",
    "\n",
    "**Ejemplo 1.**\n",
    "\n",
    "``grant select on tabla to usuario`` permite a *usuario* seleccionar tablas.\n",
    "\n",
    "``grant update, delete on tabla to usuario`` permite a *usuario* actualizar y borrar tablas.\n",
    "\n",
    "Es importante comentar que cada vez que se hace un *grant* a un mismo usuario, se añaden los nuevos privilegios a este usuario.\n",
    "\n",
    "**Ejemplo 2.**\n",
    "\n",
    "Si queremos dar un control absoluto a un usuario, hacemos ``grant all on tabla to usuario``\n",
    "\n",
    "\n",
    "También podemos revocar privilegios a los usuarios: ``revoke palabra_magica on tabla from usuario``.\n",
    "\n",
    "Mas aun, podemos permitir que usuarios seleccionen únicamente algunas columnas de una tabla:\n",
    "``grant select(nombre1,nombre2,...), update(nombre1) on tabla to usuario;`` permitirá a usuario seleccionar únicamente los campos nombre1, nombre2, etc, y hacer actualizaciones en el campo nombre1.\n",
    "\n"
   ]
  }
 ],
 "metadata": {
  "kernelspec": {
   "display_name": "R",
   "language": "R",
   "name": "ir"
  },
  "language_info": {
   "codemirror_mode": "r",
   "file_extension": ".r",
   "mimetype": "text/x-r-source",
   "name": "R",
   "pygments_lexer": "r",
   "version": "3.6.1"
  }
 },
 "nbformat": 4,
 "nbformat_minor": 4
}
