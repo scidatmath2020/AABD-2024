{
 "cells": [
  {
   "cell_type": "markdown",
   "metadata": {},
   "source": [
    "<img src=\"logo.png\">"
   ]
  },
  {
   "cell_type": "markdown",
   "metadata": {},
   "source": [
    "# C05. Agrupamiento de tablas\n",
    "\n",
    "Ya hemos visto en el Capítulo 3.2 sobre Productos Cartesianos acerca de las consultas sobre tablas relacionales. En este capítulo vamos a trabajar con otro enfoque para consultas agrupadas: las cláusulas GROUP BY y HAVING.\n",
    "\n"
   ]
  },
  {
   "cell_type": "markdown",
   "metadata": {},
   "source": [
    "## Cláusula GROUP BY\n",
    "\n",
    "La cláusula GROUP BY divide los registros de una tabla, mediante un select, en grupos. Para cada grupo, es posible aplicar cualquiera de las funciones de agregado (ver Capítulo 04) o COUNT.\n",
    "\n",
    "La sintáxis es la siguiente:\n",
    "\n",
    "``select \n",
    "columna1,\n",
    "columna2,\n",
    "...,\n",
    "función_de_agregado(COLUMNA A APLICAR)\n",
    "from \n",
    "nombre_tabla\n",
    "group by\n",
    "columna1,\n",
    "columna2,\n",
    "...;\n",
    "``\n",
    "\n",
    "Lo que hace este código es lo siguiente: \n",
    "\n",
    "1) Agrupará usando los diferentes valores de columa1 (levels de una clasificación)\n",
    "\n",
    "2) Agrupará usando los diferentes valores de columa2 (levels de una clasificación)\n",
    "\n",
    "...\n",
    "\n",
    "3) Una vez teniendo los grupos, aplicará la función de agregado a COLUMNA A APLICAR\n",
    "\n"
   ]
  },
  {
   "cell_type": "markdown",
   "metadata": {},
   "source": [
    "A continuación presentamos varias formas de utilizar GROUP BY\n",
    "\n",
    "### Sin utilizar función agregada\n",
    "\n",
    "Nos sirve únicamente para agrupar. El siguiente código nos devolverá una tabla de una sola columna donde los registros son los valores de columna1 quitando repeticiones.\n",
    "\n",
    "``SELECT\n",
    "   columna1\n",
    "FROM\n",
    "   tabla\n",
    "GROUP BY\n",
    "   columna1;``\n",
    "   \n",
    "### Utilizando sum\n",
    "\n",
    "La siguiente instrucción suma los valores de columna2 agrupados por los valores de columna1\n",
    "\n",
    "``SELECT\n",
    "\tcolumna1,\n",
    "\tSUM (columna2)\n",
    "FROM\n",
    "\ttabla\n",
    "GROUP BY\n",
    "\tcolumna1;``\n",
    "    \n",
    "La siguiente instrucción además de hacer lo anterior, para cada grupo ordena los resultados respecto de la suma correspondiente:\n",
    "\n",
    "``SELECT\n",
    "\tcolumna1,\n",
    "\tSUM (columna2)\n",
    "FROM\n",
    "\ttabla\n",
    "GROUP BY\n",
    "\tcolumna1;\n",
    "ORDER BY\n",
    "\tSUM (columna2) DESC``\n",
    "    \n",
    "### Utilizando count\n",
    "\n",
    "La siguiente instrucción cuenta cuántos elementos hay en cada grupo formado a través de los valores de columna1.\n",
    "\n",
    "``SELECT\n",
    "\tcolumna1,\n",
    "\tCOUNT(*)\n",
    "FROM\n",
    "\ttabla\n",
    "GROUP BY\n",
    "\tcolumna1;``\n",
    "\n"
   ]
  },
  {
   "cell_type": "markdown",
   "metadata": {},
   "source": [
    "## La cláusula Having\n",
    "\n",
    "Su uso es semejante a un where, pero se ocupa únicamente en el caso en que tenemos GROUP BY. Por ejemplo, el siguiente código agrupará por columna1 y contará cuántos elementos tiene cada grupo, pero únicamente nos devolverá aquellos que cumplen con cierta condición lógica.\n",
    "\n",
    "``select columna1, count(*) from tabla\n",
    "  group by columna1\n",
    "  having condición lógica;``\n",
    "  \n",
    "  \n",
    "No debemos confundir la cláusula \"where\" con la cláusula \"having\"; la primera establece condiciones para la selección de registros de un \"select\"; la segunda establece condiciones para la selección de registros de una salida \"group by\".\n",
    "\n",
    "\n",
    "``select columna1, count(*) from tabla where condición lógica 1\n",
    "  group by columna1\n",
    "  having condición lógica 2;``"
   ]
  }
 ],
 "metadata": {
  "kernelspec": {
   "display_name": "R",
   "language": "R",
   "name": "ir"
  },
  "language_info": {
   "codemirror_mode": "r",
   "file_extension": ".r",
   "mimetype": "text/x-r-source",
   "name": "R",
   "pygments_lexer": "r",
   "version": "3.6.1"
  }
 },
 "nbformat": 4,
 "nbformat_minor": 4
}
