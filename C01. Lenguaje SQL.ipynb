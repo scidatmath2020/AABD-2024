{
 "cells": [
  {
   "cell_type": "markdown",
   "metadata": {},
   "source": [
    "<img src=\"logo.png\">"
   ]
  },
  {
   "cell_type": "markdown",
   "metadata": {},
   "source": [
    "# C01. Lenguaje SQL\n",
    "\n",
    "## ¿Qué son las bases de datos?\n",
    "\n",
    "Una base de datos es un “almacén” que nos permite guardar grandes cantidades de información de forma organizada para que luego podamos encontrar y utilizar fácilmente. A continuación te presentamos una guía que te explicará el concepto y características de las bases de datos.\n",
    "\n",
    "\n",
    "Una base de datos se puede definir como un conjunto de información relacionada que se encuentra agrupada ó estructurada. Cada base de datos se compone de una o más tablas que guarda un conjunto de datos. Cada tabla tiene una o más columnas y filas. Las columnas, también llamadas **campos**, guardan una parte de la información sobre cada elemento que queramos guardar en la tabla, cada fila de la tabla conforma un **registro**.\n",
    "\n",
    "Los Sistemas de Gestión de Base de Datos (en inglés DataBase Management System) son un tipo de software muy específico, dedicado a servir de interfaz entre la base de datos, el usuario y las aplicaciones que la utilizan. Se compone de un lenguaje de definición de datos, de un lenguaje de manipulación de datos y de un lenguaje de consulta.\n",
    "\n",
    "\n",
    "\n"
   ]
  },
  {
   "cell_type": "markdown",
   "metadata": {},
   "source": [
    "## ¿Qué es SQL?\n",
    "\n",
    "El Lenguaje de Consulta Estructurado popularmente conocido por sus siglas en inglés como SQL, es un tipo de lenguaje de programación que ayuda a solucionar problemas específicos o relacionados con la definición, manipulación e integridad de la información representada por los datos que se almacenan en las bases de datos.\n",
    "\n",
    "Algunos aspectos de SQL están basados en el cálculo relacional, algunos en el álgebra relacional que provienen del modelo relacional y otros a ninguno de los dos sino que son parte de SQL."
   ]
  },
  {
   "cell_type": "markdown",
   "metadata": {},
   "source": [
    "## Creación y eliminación de una base de datos\n",
    "\n",
    "El ícono para abrir script es el siguiente:  \n",
    "\n",
    "<img src=\"boton_script.png\">\n"
   ]
  },
  {
   "cell_type": "markdown",
   "metadata": {},
   "source": [
    "Para crear una base de datos en Pgadmin 4 podemos hacerlo simplemente escribendo \n",
    "\n",
    "``CREATE DATABASE <<nombre de nuestra base de datos>>``\n",
    "\n",
    "Para eliminar una base de datos también lo podemos hacer desde código:\n",
    "\n",
    "``DROP DATABASE <<nombre de nuestra base de datos>>``\n",
    "\n",
    "Es posible que nos marque algún error al querer eliminarla por estar activa en uso. "
   ]
  },
  {
   "cell_type": "markdown",
   "metadata": {},
   "source": [
    "## Creación, eliminación y selección de tablas\n",
    "\n",
    "**Creación de tablas**\n",
    "\n",
    "Primero debemos seleccionar la base de datos donde queremos crear la tabla. Abrimos un script y ejecutamos\n",
    "\n",
    "``CREATE TABLE modulo_victimizacion(\n",
    "    entidad varchar(2),\n",
    "    viv varchar(5),\n",
    "    hogar varchar(5),\n",
    "    upm varchar(5),\n",
    "    renglon varchar(20),\n",
    "\ttipo_delito int,\n",
    "    num_delito int,\n",
    "    nombre varchar(50),\n",
    "\tapellido varchar(50),\n",
    "\tperdida int\n",
    ")``\n",
    "\n",
    "**Selección completa de una tabla**\n",
    "\n",
    "``SELECT * FROM modulo_victimizacion``\n",
    "\n",
    "**Eliminación de una columna**\n",
    "\n",
    "``ALTER TABLE modulo_victimizacion DROP COLUMN entidad;``\n",
    "\n",
    "**Eliminación de tablas**\n",
    "\n",
    "``DROP TABLE modulo_victimizacion``\n",
    "\n"
   ]
  },
  {
   "cell_type": "markdown",
   "metadata": {},
   "source": [
    "## Insertado de datos\n",
    "\n",
    "``INSERT INTO modulo_victimizacion(entidad, viv, hogar, upm, renglon, tipo_delito, num_delito, nombre, apellido, perdida)\n",
    "VALUES ('01','15','03','15','10',3, 1, 'Luis', 'Miranda',2000),\n",
    "       ('01','15','03','15','10',3, 2, 'Luis', 'Miranda',3000),\n",
    "       ('02','20','13','10','03',4, 1, 'Oscar', 'Ruiz',1000),\n",
    "       ('09','16','11','05','01',5, 1, 'Raul', 'Ortiz',4500),\n",
    "       ('32','12','11','02','04',2, 1, 'Luisa', 'Ortiz',300),\n",
    "       ('32','12','11','02','04',3, 1, 'Luisa', 'Ortiz',500)\n",
    "       ;``\n",
    "\n",
    "Si conocemos el orden de los campos y su tipo, podemos insertar nuevos registros de manera \"directa\".\n",
    "\n",
    "``insert into modulo_victimizacion\n",
    "values ('01','01','01','01','01',6,1,'Jose','Uribe',5000)``\n",
    "\n",
    "**Selección de campos**\n",
    "\n",
    "Ya hemos visto que con el comando ``SELECT * FROM`` podemos ver toda una tabla completa. Si solo estamos interesados en ver una columna, usamos el comando ``SELECT <<nombre del campo>> FROM <<nombre de la tabla>>``. Si queremos ver varias columnas, separamos sus nombres por una coma.\n",
    "\n",
    "``\n",
    "SELECT tipo_delito, perdida FROM modulo_victimizacion;\n",
    "``\n",
    "\n",
    "\n"
   ]
  },
  {
   "cell_type": "markdown",
   "metadata": {},
   "source": [
    "## Ordenar una tabla de forma ascendente/descendente\n",
    "\n",
    "Tenemos el comando ``ORDER BY`` para hacer ordenamientos tanto ascendentes como descendentes.\n",
    "\n",
    "* Ordenamos de manera ascendente\n",
    "\n",
    "``SELECT * FROM modulo_victimizacion ORDER BY apellido ASC;``\n",
    "\n",
    "\n",
    "* Ordenamos de manera descendente\n",
    "\n",
    "``SELECT * FROM modulo_victimizacion ORDER BY apellido DESC;``\n",
    "\n",
    "* Ordenamos usando un doble criterio\n",
    "\n",
    "``SELECT * FROM modulo_victimizacion ORDER BY nombre DESC, apellido ASC, perdida DESC;``\n",
    "\n",
    "Incluso podemos ordenar indicando numéricamente el campo: ``SELECT * FROM modulo_victimizacion ORDER BY 6 ASC;`` (cuidado con este formato, porque toma en cuenta que el total de columnas puede cambiar)\n",
    "\n"
   ]
  },
  {
   "cell_type": "markdown",
   "metadata": {},
   "source": [
    "## Filtros\n",
    "\n",
    "Los filtrados de información los podemos hacer con el comando ``WHERE``.\n",
    "\n",
    "``SELECT * FROM modulo_victimizacion WHERE perdida > 1000 ORDER BY tipo_delito DESC;``\n",
    "\n",
    "``SELECT * FROM modulo_victimizacion WHERE entidad  = '01';``\n",
    "\n",
    "``SELECT * FROM modulo_victimizacion WHERE perdida >= 2000 AND entidad = '01';``\n",
    "\n",
    "``SELECT * FROM modulo_victimizacion WHERE perdida != 2000;``"
   ]
  },
  {
   "cell_type": "markdown",
   "metadata": {},
   "source": [
    "## Operadores lógicos\n",
    "\n",
    "Los operadores lógicos vienen dados por ``AND``, ``OR``, ``NOT`` e ``IN``.\n",
    "\n",
    "``SELECT * FROM modulo_victimizacion WHERE tipo_delito IN(3)``\n",
    "\n",
    "``SELECT * FROM modulo_victimizacion WHERE tipo_delito IN(3,5)``. Esta selección a su vez equivale a ``WHERE tipo_delito = 3 OR tipo_delito = 5``\n",
    "\n",
    "``SELECT * FROM modulo_victimizacion WHERE tipo_delito = 4 AND entidad = '02'``\n",
    "\n",
    "``SELECT * FROM modulo_victimizacion WHERE nombre IN('Luis')``\n",
    "\n",
    "``SELECT * FROM modulo_victimizacion WHERE NOT perdida = 4500``"
   ]
  },
  {
   "cell_type": "markdown",
   "metadata": {},
   "source": [
    "# Delimitando la visualización de una tabla\n",
    "\n",
    "Podemos visualizar rápidamente solo una parte de nuestras tablas. Para ello disponemos de varios comandos.\n",
    "\n",
    "* ``LIMIT`` cuántos registros, desde el primero, quieres\n",
    "\n",
    "``SELECT * FROM modulo_victimizacion LIMIT 2``\n",
    "\n",
    "* ``OFFSET`` muestra a partir de qué registro se quiere ver (tomar en cuenta que el índice comienza en 0)\n",
    "\n",
    "``SELECT * FROM modulo_victimizacion OFFSET 2``\n",
    "\n",
    "* ``BETWEEN`` muestra registros en un rango. El comando ``<<campo>> BETWEEN a AND b`` significa $\\mbox{campo}\\in[a,b]$\n",
    "\n",
    "``SELECT * FROM modulo_victimizacion WHERE perdida BETWEEN 1000 AND 3000``, que equivale a ``SELECT * FROM modulo_victimizacion WHERE perdida >=1000 AND perdida <= 3000``\n"
   ]
  },
  {
   "cell_type": "markdown",
   "metadata": {},
   "source": [
    "## Filtros con expresiones\n",
    "\n",
    "Si queremos hacer filtros con expresiones de cadena, podemos usar los comandos ``LIKE`` e ``ILIKE``. \n",
    "\n",
    "Por ejemplo, supongamos que por alguna razón buscamos a las víctimas cuyo nombre comienza con \"Luis\". Esto lo hacemos con la instrucción \n",
    "\n",
    "``SELECT * FROM modulo_victimizacion WHERE nombre LIKE 'Luis%'``\n",
    "\n",
    "El *comodín* % significa que no importa qué siga después de la palabra **Luis**. \n",
    "\n",
    "Si por el contrario, buscamos nombres que terminen con \"sa\", escribimos el comodín % previo a la expresión \"sa\":\n",
    "\n",
    "``SELECT * FROM modulo_victimizacion WHERE nombre LIKE '%sa'``\n",
    "\n",
    "Incluso, podemos utilizar varias veces el comodín. Por ejemplo, si buscamos los nombres que tengan una \"u\" previa a una \"s\" **y que pueden no comenzar con u o terminar con s** entonces escribimos\n",
    "\n",
    "``SELECT * FROM modulo_victimizacion WHERE nombre LIKE '%u%s%'``\n",
    "\n",
    "Ahora bien, el comodín % tiene la característica de significar \"cualquier cosa antes, después o entre\". Esto incluye que no importan cuántos caracteres se encuentren. Por ejemplo, la expresión \"%a\" representa palabras que terminen en *a*, no importando qué le preceda ni **cuántos caractareres le precedan**. Si queremos controlar el número de caracteres que estén antes, en medio, o después de la expresión, usamos el comodín _ . \n",
    "\n",
    "``SELECT * FROM modulo_victimizacion WHERE nombre LIKE 'Lu__'``\n",
    "\n",
    "El comodín _ es totalmente análogo en su funcionamiento al comodín %. De hecho se pueden combinar:\n",
    "\n",
    "``SELECT * FROM modulo_victimizacion WHERE nombre LIKE 'L%s_'``\n",
    "\n",
    "Por otra parte, es importante notar que ```LIKE`` es sensible a las mayúsculas.\n",
    "\n",
    "``SELECT * FROM modulo_victimizacion WHERE nombre LIKE 'l%s_' ``\n",
    "\n",
    "Para evitar esta sensibilidad usamos ``ILIKE``, cuya única diferencia respecto a ``LIKE`` es la sensibilidad mayúsculas/minúsculas.\n",
    "\n",
    "Además, existen sus negaciones: ``NOT LIKE`` y ``NOT ILIKE``"
   ]
  },
  {
   "cell_type": "markdown",
   "metadata": {},
   "source": [
    "## Eliminación y actualización de registros\n",
    "\n",
    "Podemos vaciar todos los elementos de una tabla **sin borrar la tabla como tal**. Es decir, la tabla sigue existiendo, pero se  cambia todos los valores del campo **perdida** a 100000.queda sin registros.\n",
    "\n",
    "``DELETE FROM modulo_victimizacion``\n",
    "\n",
    "También podemos eliminar solo ciertos registros:\n",
    "\n",
    "``DELETE FROM modulo_victimizacion WHERE nombre LIKE 'Luis_'``\n",
    "\n",
    "Por otra parte, las actualizaciones se pueden hacer global o localmente en nuestras tablas.\n",
    "\n",
    "* ``UPDATE modulo_victimizacion SET perdida = 100000`` cambia todos los valores del campo **perdida** a 100000.\n",
    "\n",
    "* ``UPDATE modulo_victimizacion SET entidad = '32' WHERE nombre = 'Luis'`` cambia todos los valores del campo **entidad** a '32' para quienes se llamen \"Luis\"."
   ]
  },
  {
   "cell_type": "markdown",
   "metadata": {},
   "source": [
    "## Añadir una columna a una tabla existente \n",
    "\n",
    "Para agregar una nueva columna a una tabla existente en PostgreSQL, puedes utilizar la sentencia `ALTER TABLE`. Supongamos que tienes una tabla llamada `nombre_tabla` y quieres agregar una nueva columna llamada `nueva_columna` de tipo `tipo_de_dato`:\n",
    "\n",
    "`ALTER TABLE nombre_tabla ADD nueva_columna tipo_de_dato;`\n",
    "\n",
    "Esta sentencia `ALTER TABLE` agrega la nueva columna al final de la definición de la tabla. Si deseas agregar la columna en una posición específica o después de una columna existente, puedes usar la cláusula `AFTER`:\n",
    "\n",
    "`ALTER TABLE nombre_tabla ADD nueva_columna tipo_de_dato AFTER columna_existente;`\n",
    "\n",
    "Al agregar una nueva columna, esta se agregará sin datos en las filas existentes. \n",
    "`"
   ]
  },
  {
   "cell_type": "markdown",
   "metadata": {},
   "source": [
    "### Añadir columna calculada\n",
    "\n",
    "Para agregar una columna calculada a una tabla en PostgreSQL, puedes utilizar la sentencia `ALTER TABLE` junto con la cláusula `ADD COLUMN`, y luego definir la expresión que calculará el valor de la nueva columna. PostgreSQL permite agregar columnas calculadas utilizando la función `GENERATED ALWAYS AS`.\n",
    "\n",
    "`ALTER TABLE nombre_tabla ADD COLUMN columna_calculada tipo_de_dato GENERATED ALWAYS AS (expresion) STORED;`\n"
   ]
  }
 ],
 "metadata": {
  "kernelspec": {
   "display_name": "R",
   "language": "R",
   "name": "ir"
  },
  "language_info": {
   "codemirror_mode": "r",
   "file_extension": ".r",
   "mimetype": "text/x-r-source",
   "name": "R",
   "pygments_lexer": "r",
   "version": "3.6.1"
  }
 },
 "nbformat": 4,
 "nbformat_minor": 4
}
