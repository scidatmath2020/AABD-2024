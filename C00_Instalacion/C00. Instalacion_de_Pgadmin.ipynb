{
 "cells": [
  {
   "cell_type": "markdown",
   "id": "64fd4dcc",
   "metadata": {},
   "source": [
    "![imagenes](logo.png)"
   ]
  },
  {
   "cell_type": "markdown",
   "id": "6995b3af",
   "metadata": {},
   "source": [
    "# C00. Instalación de Pgadmin 4\n",
    "\n",
    "En este capítulo offline del diplomado vamos a aprender a instalar Pgadmin 4 en nuestro equipo. Pero antes, una breve explicación.\n",
    "\n",
    "## ¿Qué es SQL?\n",
    "\n",
    "**SQL** en realidad no es un lenguaje de programación como tal, sino una gran familia de lenguajes de programación, todos orientados a lo que se conoce como *búsquedas secuenciales*, pero en unos momentos explicaremos el concepto de búsqueda secuencial.\n",
    "\n",
    "De esta manera, SQL es en realidad un conjunto de lenguajes de programación, todos con un mismo objetivo, y que tienen una sintaxis muy parecida entre ellos. Esto significa que si aprendes a utilizar uno, podrás aprender muy fácilmente cualquiera de los otros.\n",
    "\n",
    "Algunos ejemplos de lenguajes tipo SQL son MySQL, SQLite, MariaDB y PostgreSQL, entre otros. En este diplomado el SQL que vamos a aprender es PostgreSQL.\n",
    "\n",
    "Ahora, ¿qué es una búsqueda secuencial? Imagina que tienes una tabla de datos con varias columnas y te gustaría ver únicamente los renglones correspondientes solo a algunas columnas y que los valores en esas columnas cumplan con cierta condición. Por ejemplo, tienes la siguiente tabla:\n",
    "\n",
    "|nombre|sexo|edad|matemáticas|español|biología|\n",
    "| --- | --- | --- | --- | --- | --- |\n",
    "|Luis|hombre|15|10|8|9|\n",
    "|María|mujer|16|7|9|10|\n",
    "|José|hombre|15|7|6|9|\n",
    "|Ana|mujer|15|10|8|10|\n",
    "|Gloria|mujer|16|9|7|8|\n",
    "|Dulce|mujer|14|10|5|7|\n",
    "|Abigaíl|mujer|15|8|9|5|\n",
    "|Jimena|mujer|16|8|5|6|\n",
    "|Raúl|hombre|16|10|10|10|\n",
    "|Héctor|hombre|15|10|8|10|\n",
    "|Patricia|mujer|15|10|9|10|\n",
    "\n",
    "Ahora, te interesan las mujeres de 15 años que tienen 10 en matemáticas. Entonces vas a **buscar** a las mujeres de 15 años con 10 en matemáticas. Esa búsqueda se puede hacer **secuencialmente**:\n",
    "\n",
    "- De la tabla original, elige las columnas nombre, sexo, edad y matemáticas (las otras columnas no te interesan). Otenemos lo siguiente:\n",
    " \n",
    "|nombre|sexo|edad|matemáticas\n",
    "| --- | --- | --- | --- | \n",
    "|Luis|hombre|15|10|\n",
    "|María|mujer|16|7|\n",
    "|José|hombre|15|7|\n",
    "|Ana|mujer|15|10|\n",
    "|Gloria|mujer|16|9|\n",
    "|Dulce|mujer|14|10|\n",
    "|Abigaíl|mujer|15|8|\n",
    "|Jimena|mujer|16|8|\n",
    "|Raúl|hombre|16|10|\n",
    "|Héctor|hombre|15|10|\n",
    "|Patricia|mujer|15|10|\n",
    "\n",
    "- Luego filtra las mujeres\n",
    "\n",
    "|nombre|sexo|edad|matemáticas\n",
    "| --- | --- | --- | --- | \n",
    "|María|mujer|16|7|\n",
    "|Ana|mujer|15|10|\n",
    "|Gloria|mujer|16|9|\n",
    "|Dulce|mujer|14|10|\n",
    "|Abigaíl|mujer|15|8|\n",
    "|Jimena|mujer|16|8|\n",
    "|Patricia|mujer|15|10|\n",
    "\n",
    "- Luego filtra cuando las edades son 15\n",
    "\n",
    "|nombre|sexo|edad|matemáticas\n",
    "| --- | --- | --- | --- | \n",
    "|Ana|mujer|15|10|\n",
    "|Abigaíl|mujer|15|8|\n",
    "|Patricia|mujer|15|10|\n",
    "\n",
    "- Luego filtra cuando la calificación en matemáticas es 10\n",
    "\n",
    "|nombre|sexo|edad|matemáticas\n",
    "| --- | --- | --- | --- | \n",
    "|Ana|mujer|15|10|\n",
    "|Patricia|mujer|15|10|\n",
    "\n",
    "¡Hemos hecho una búsqueda secuencial!"
   ]
  },
  {
   "cell_type": "markdown",
   "id": "bbbb242f",
   "metadata": {},
   "source": [
    "## ¿Qué es Pgadmin?\n",
    "\n",
    "Bueno... en resumen, ya sabemos qué es SQL y ya sabemos que el lenguaje que vamos a aprender se llama PostgreSQL. Por otra parte, todo lenguaje de programación requiere de un *editor de texto* que es el \"programa\" mediante el cual hablaremos con la computadora utilizando dicho lenguaje.\n",
    "\n",
    "Por ejemplo, Python es un lenguaje y utilizamos programas como Spyder o Jupyter para hablar ese lenguaje con la computadora; R también es un lenguaje y utilizamos el programa RStudio para hablar ese lenguaje con la computadora; y en este caso, PostgreSQL es un lenguaje de tipo SQL y el programa que utilizaremos para hablarlo con nuestra computadora es Pgadmin 4. "
   ]
  },
  {
   "cell_type": "markdown",
   "id": "718fc74f",
   "metadata": {},
   "source": [
    "## Instalación de Pgadmin 4\n",
    "\n",
    "Ya que tenemos claros estos primeros conceptos, procederemos a la instalación de Pgadmin 4 (recuerda: Pgadmin 4 es un programa y PostgreSQL es un lenguaje). El tiempo que tardes en instalarlo dependerá de tu conexión a internet y de la velocidad de tu equipo de cómputo, pero usualmente no tardarás más de 10 minutos. **Es importante mencionar que durante este diplomado la versión más reciente de Pgadmin 4 es la v16.2**\n",
    "\n",
    "Dicho esto, iniciemos."
   ]
  },
  {
   "cell_type": "markdown",
   "id": "e5cd2c21",
   "metadata": {},
   "source": [
    "### Paso 1. Descargar el instalador.\n",
    "\n",
    "Dirígete a https://www.postgresql.org/download/ y verás esta página:\n",
    "\n",
    "![imagenes](c00_01.png)"
   ]
  },
  {
   "cell_type": "markdown",
   "id": "43bbd6a0",
   "metadata": {},
   "source": [
    "Ahí, dependiendo de tu sistema operativo (windows, mac, etc.) vas a dar clic en el ícono correspondiente. Yo lo voy a hacer en Windows 10. Para Mac, el procedimiento es prácticamente el mismo, en tanto para Linux vas a seguir las instrucciones especiales mediante terminal que la misma página te irá indicando.\n",
    "\n",
    "\n",
    "![imagenes](c00_02.png)"
   ]
  },
  {
   "cell_type": "markdown",
   "id": "3796e339",
   "metadata": {},
   "source": [
    "Te va a llevar a la siguiente página:\n",
    "\n",
    "![imagenes](c00_03.png)"
   ]
  },
  {
   "cell_type": "markdown",
   "id": "06bee6bd",
   "metadata": {},
   "source": [
    "Ahora haz clic en **Download the installer**. Se encuentra en donde está el recuadro en rojo.\n",
    "\n",
    "![imagenes](c00_04.png)"
   ]
  },
  {
   "cell_type": "markdown",
   "id": "04f49a47",
   "metadata": {},
   "source": [
    "En este momento debes estar en esta página\n",
    "\n",
    "![imagenes](c00_05.png)"
   ]
  },
  {
   "cell_type": "markdown",
   "id": "8c8f70db",
   "metadata": {},
   "source": [
    "En mi caso, voy a dar clic en el siguiente ícono\n",
    "\n",
    "![imagenes](c00_06.png)"
   ]
  },
  {
   "cell_type": "markdown",
   "id": "1eb23cb7",
   "metadata": {},
   "source": [
    "Ahora tendrás que esperar a que se descargue el instalador."
   ]
  },
  {
   "cell_type": "markdown",
   "id": "527d8615",
   "metadata": {},
   "source": [
    "### Paso 2. Proceder a la instalación.\n",
    "\n",
    "Ya hemos descargado el instalador de nuestro programa. Ahora vamos a instalarlo. Para ello, simplemente nos vamos a nuestras *Descargas* y damos doble clic en el archivo que descargamos.\n",
    "\n",
    "Lo primero que hará será preguntarnos si deseamos que se hagan cambios en el equipo. Le vamos a decir que sí.\n",
    "\n",
    "Nos va a aparecer el siguiente cuadro de diálogo:\n",
    "\n",
    "![imagenes](c00_07.png)\n",
    "\n",
    "Demos clic en *Siguiente >*"
   ]
  },
  {
   "cell_type": "markdown",
   "id": "32da648e",
   "metadata": {},
   "source": [
    "Nos va a aparecer el siguiente cuadro de diálogo:\n",
    "\n",
    "![imagenes](c00_08.png)\n",
    "\n",
    "Demos clic en *Siguiente >*"
   ]
  },
  {
   "cell_type": "markdown",
   "id": "8194e3f3",
   "metadata": {},
   "source": [
    "Nos va a aparecer el siguiente cuadro de diálogo:\n",
    "\n",
    "![imagenes](c00_09.png)\n",
    "\n",
    "Demos clic en *Siguiente >*"
   ]
  },
  {
   "cell_type": "markdown",
   "id": "7c030c93",
   "metadata": {},
   "source": [
    "Nos va a aparecer el siguiente cuadro de diálogo:\n",
    "\n",
    "![imagenes](c00_10.png)\n",
    "\n",
    "Demos clic en *Siguiente >*"
   ]
  },
  {
   "cell_type": "markdown",
   "id": "4b925866",
   "metadata": {},
   "source": [
    "Ahora, si la siguiente ventana no te aparece, **no te asustes**. Si no te aparece, puedes continuar al siguiente punto. Básicamente te está pidiendo que crees una contraseña para el **superusuario** de Pgadmin. Antes de elegir tu contraseña, lee detenidamente lo siguiente:\n",
    "\n",
    "Explico rápidamente qué es un superusuario (dicho concepto lo vamos a estudiar mas a profundidad durante el diplomado): recuerda que este es un diplomado de Arquitectura y **Administración** de bases de datos. Un administrador de bases de datos tiene, entre otras funciones, la de cuidar y proteger la información de la base, en el sentido de que las personas que puedan ingresar a esa base de datos tengan o no permisos para modificarlas, eliminarlas, leerlas o copiarlas. Tú como administrador vas a ser quien otorgue esos permisos a los usuarios. El superusuario es un usuario que tiene TODOS LOS PERMISOS PARA TRABAJAR UNA BASE DE DATOS. \n",
    "\n",
    "Por lo tanto, básicamente estás creando la contraseña de la persona que será administrador de la base. \n",
    "\n",
    "**En mi caso, para fines prácticos usaré como contraseña abcd**. Recuerda escribir tu contraseña en un lugar seguro, ya que **si la olvidas será muy difícil recuperarla y por lo tanto no podrás volver a entrar a Pgadmin**.\n",
    "\n",
    "Una vez que teclees la contraseña, haz clic en *Siguente >*.\n",
    "\n",
    "![imagenes](c00_11.png)"
   ]
  },
  {
   "cell_type": "markdown",
   "id": "1aa654bb",
   "metadata": {},
   "source": [
    "Deberás estar en esta ventana, que por default instalará Pgadmin en tu puerto 5432\n",
    "\n",
    "![imagenes](c00_12.png)\n",
    "\n",
    "Haz clic en *Siguiente >*"
   ]
  },
  {
   "cell_type": "markdown",
   "id": "b63471e0",
   "metadata": {},
   "source": [
    "Ahora estás en la siguiente ventana, que es la de configuración regional.\n",
    "\n",
    "![imagenes](c00_13.png)\n",
    "\n",
    "Te sugiero no modificar la opción que está por default y darle clic en *Siguiente >*"
   ]
  },
  {
   "cell_type": "markdown",
   "id": "ee39155c",
   "metadata": {},
   "source": [
    "Ahora, básicamente te va a informar qué es lo que te va a instalar.\n",
    "\n",
    "![imagenes](c00_14.png)\n",
    "\n",
    "Haz clic en *Siguiente >*"
   ]
  },
  {
   "cell_type": "markdown",
   "id": "fd1fff8a",
   "metadata": {},
   "source": [
    "Finalmente, te van a informar que todo está listo para la instalación.\n",
    "\n",
    "![imagenes](c00_15.png)\n",
    "\n",
    "Haz clic en *Siguiente >*"
   ]
  },
  {
   "cell_type": "markdown",
   "id": "0419af4d",
   "metadata": {},
   "source": [
    "En breve comenzará la instalación. En mi caso, la instalación completa se llevó al rededor de tres minutos.\n",
    "\n",
    "![imagenes](c00_16.png)"
   ]
  },
  {
   "cell_type": "markdown",
   "id": "acee7c3f",
   "metadata": {},
   "source": [
    "Una vez terminada la instalación te aparecerá la siguiente ventana. **Todavía no des clic en *Terminar*.**\n",
    "\n",
    "![imagenes](c00_17.png)"
   ]
  },
  {
   "cell_type": "markdown",
   "id": "59a110b4",
   "metadata": {},
   "source": [
    "Nota que hay una casilla marcada positivamente. **Desmarcala antes de dar clic en *Terminar***\n",
    "\n",
    "![imagenes](c00_18.png)\n",
    "\n",
    "Ahora sí, haz clic en *Terminar*"
   ]
  },
  {
   "cell_type": "markdown",
   "id": "1b788c5d",
   "metadata": {},
   "source": [
    "### Paso 3. Verificar la instalación.\n",
    "\n",
    "En teoría ya has instalado correctamente a Pgadmin 4. Vamos a ver si funciona.\n",
    "\n",
    "Para ello, ve a tu buscador:\n",
    "\n",
    "![imagenes](c00_19.png)"
   ]
  },
  {
   "cell_type": "markdown",
   "id": "219dbf2e",
   "metadata": {},
   "source": [
    "Ahí escribe **pgadmin** y te deberá aparecer lo siguiente. Haz clic en *Abrir*\n",
    "\n",
    "![imagenes](c00_20.png)\n"
   ]
  },
  {
   "cell_type": "markdown",
   "id": "3de212b5",
   "metadata": {},
   "source": [
    "Te aparecerá la siguiente ventana que indica que Pgadmin se está abriendo\n",
    "\n",
    "![imagenes](c00_21.png)"
   ]
  },
  {
   "cell_type": "markdown",
   "id": "1fa1127d",
   "metadata": {},
   "source": [
    "Una vez que se abra, observarás la siguiente pantalla:\n",
    "\n",
    "![imagenes](c00_22.png)"
   ]
  },
  {
   "cell_type": "markdown",
   "id": "9fc0bfba",
   "metadata": {},
   "source": [
    "A tu izquierda y casi hasta arriba, verás la palabra *Servers*. Haz clic en la flecha a su izquierda\n",
    "![imagenes](c00_23.png)"
   ]
  },
  {
   "cell_type": "markdown",
   "id": "7065183d",
   "metadata": {},
   "source": [
    "Te aparecerá la siguiente ventana. En ese recuadro deberás escribir la contraseña que creaste cuando hiciste la instalación.\n",
    "\n",
    "![imagenes](c00_24.png)\n",
    "\n",
    "Una vez que la hayas escrito, haz clic en *OK*."
   ]
  },
  {
   "cell_type": "markdown",
   "id": "9b337f36",
   "metadata": {},
   "source": [
    "Te aparecerá la siguiente ventana:\n",
    "\n",
    "![imagenes](c00_25.png)"
   ]
  },
  {
   "cell_type": "markdown",
   "id": "c05353f5",
   "metadata": {},
   "source": [
    "Ahora, de tu lado izquierdo, verás que dice *Databases (1)*. Haz clic en la flecha *>* que está a su izquierda. \n",
    "\n",
    "Se te va a desplegar el siguiente menú\n",
    "\n",
    "![imagenes](c00_26.png)"
   ]
  },
  {
   "cell_type": "markdown",
   "id": "d12c14f9",
   "metadata": {},
   "source": [
    "Primer, nota que la opción *Databases (1)* está coloreada de azul. Además observa la zona donde dice *Object Explorer*. A su derecha verás un ícono parecido a un barril con una flecha que apunta hacia la derecha. Si intentas hacer clic en ese ícono, no pasará nada.  \n",
    "\n",
    "![imagenes](c00_27.png)"
   ]
  },
  {
   "cell_type": "markdown",
   "id": "9f03cdce",
   "metadata": {},
   "source": [
    "Ahora, justo debajo de la opción *Databases (1)* hay una opción llamada *Postgres*. Selecciona esa opción. Notarás que el ícono del barril se activará y ya lo puedes presionar. Presiónalo\n",
    "\n",
    "![imagenes](c00_28.png)"
   ]
  },
  {
   "cell_type": "markdown",
   "id": "c610dbdb",
   "metadata": {},
   "source": [
    "En este momento debes estar viendo la siguiente ventana. En particular observa la zona en el rectángulo rojo\n",
    "\n",
    "![imagenes](c00_29.png)"
   ]
  },
  {
   "cell_type": "markdown",
   "id": "e1bc8bb1",
   "metadata": {},
   "source": [
    "Escribe ahí lo siguiente:\n",
    "\n",
    "CREATE DATABASE prueba;\n",
    "\n",
    "![imagenes](c00_30.png)"
   ]
  },
  {
   "cell_type": "markdown",
   "id": "b11e8ef6",
   "metadata": {},
   "source": [
    "Ahora haz clic en el ícono que está indicado en el rectángulo rojo\n",
    "\n",
    "![imagenes](c00_31.png)"
   ]
  },
  {
   "cell_type": "markdown",
   "id": "8101354e",
   "metadata": {},
   "source": [
    "En la zona media-baja de tu pantalla deberá aparecerte algo parecido a esto:\n",
    "\n",
    "![imagenes](c00_32.png)"
   ]
  },
  {
   "cell_type": "markdown",
   "id": "fc89f98b",
   "metadata": {},
   "source": [
    "Ahora vuelve tu vista a tu izquierda, al menú *Databases (1)*. Haz clic con botón secundario en él y te aparecerá el siguiente menú. \n",
    "\n",
    "![imagenes](c00_33.png)"
   ]
  },
  {
   "cell_type": "markdown",
   "id": "a1b5ac26",
   "metadata": {},
   "source": [
    "Haz clic en *Refresh*. Observarás que ya no dice *Databases (1)* sino *Databases (2)*. \n",
    "\n",
    "![imagenes](c00_34.png)\n",
    "\n",
    "Esto significa que has creado existosamente una base de datos llamada **prueba** y por lo tanto tu Pgadmin 4 está bien instalado."
   ]
  },
  {
   "cell_type": "markdown",
   "id": "cf04b170",
   "metadata": {},
   "source": [
    "Vuelve ahora a donde escribiste `CREATE DATABASE prueba;` y sustituye la palabra `CREATE` por `DROP`\n",
    "\n",
    "![imagenes](c00_35.png)"
   ]
  },
  {
   "cell_type": "markdown",
   "id": "3d760cee",
   "metadata": {},
   "source": [
    "Haz clic sobre el ícono marcado\n",
    "\n",
    "![imagenes](c00_36.png)"
   ]
  },
  {
   "cell_type": "markdown",
   "id": "b56bde4a",
   "metadata": {},
   "source": [
    "En la zona media-baja deberás obtener un mensaje parecido al siguiente:\n",
    "\n",
    "![imagenes](c00_37.png)"
   ]
  },
  {
   "cell_type": "markdown",
   "id": "ffe7b2ce",
   "metadata": {},
   "source": [
    "Nuevamente ve al menú de tu izquierda llamado *Databases (2)*, haz clic derecho en él y luego en *Refresh*. Notarás que nuevamente dice *Databases (1)*. \n",
    "\n",
    "Ahora puedes cerrar el programa simplemente haciendo clic en el ícono de cerrar que está arriba a la derecha\n",
    "\n",
    "![imagenes](c00_38.png)"
   ]
  },
  {
   "cell_type": "markdown",
   "id": "3e42b7fb",
   "metadata": {},
   "source": [
    "Te aparecerá la siguiente ventana. Simplemente haz clic en *Abandonar* ya. \n",
    "\n",
    "![imagenes](c00_39.png)\n",
    "\n",
    "Has terminado exitosamente la instalación de Pgadmin 4.\n",
    "\n",
    "**Esperamos que este tutorial de instalación de Pgadmin 4 te haya servido**\n",
    "\n",
    "**Porque SciData es por y para tí**"
   ]
  }
 ],
 "metadata": {
  "kernelspec": {
   "display_name": "Python 3 (ipykernel)",
   "language": "python",
   "name": "python3"
  },
  "language_info": {
   "codemirror_mode": {
    "name": "ipython",
    "version": 3
   },
   "file_extension": ".py",
   "mimetype": "text/x-python",
   "name": "python",
   "nbconvert_exporter": "python",
   "pygments_lexer": "ipython3",
   "version": "3.11.4"
  }
 },
 "nbformat": 4,
 "nbformat_minor": 5
}
